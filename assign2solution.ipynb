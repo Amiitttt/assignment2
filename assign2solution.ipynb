{
 "cells": [
  {
   "cell_type": "code",
   "execution_count": 5,
   "id": "e6b41ffa-d6a9-4bea-ada5-a78962c9d968",
   "metadata": {},
   "outputs": [
    {
     "name": "stdout",
     "output_type": "stream",
     "text": [
      "[1, 3, 5, 7, 9, 11, 13, 15, 17, 19, 21, 23, 25]\n"
     ]
    }
   ],
   "source": [
    "\"\"\"Q1. Which keyword is used to create a function? Create a function to return a list of odd numbers in the \n",
    "#range of 1 to 25.\"\"\"\n",
    "# def keyword is used to create a function \n",
    "def odd():\n",
    "    return [i for i in range(1,26) if i%2!=0]\n",
    "print(odd())\n"
   ]
  },
  {
   "cell_type": "code",
   "execution_count": 6,
   "id": "34eb0f1d-7810-4c33-8f75-50428de9f0f5",
   "metadata": {},
   "outputs": [
    {
     "data": {
      "text/plain": [
       "(2, 3, 'amit', [1, 2, 3, 4])"
      ]
     },
     "execution_count": 6,
     "metadata": {},
     "output_type": "execute_result"
    }
   ],
   "source": [
    "\"\"\"Q2. Why *args and **kwargs is used in some functions? Create a function each \n",
    "for *args and **kwargs to demonstrate their use\"\"\"\n",
    "#ans args is used for positional arguments and kwargs is used for keyword arguments \n",
    "def add(*args):\n",
    "    return args\n",
    "add(2,3,\"amit\",[1,2,3,4])\n",
    "    \n",
    "\n",
    "\n",
    "\n",
    "\n",
    "\n",
    "\n"
   ]
  },
  {
   "cell_type": "code",
   "execution_count": 7,
   "id": "bc541d4b-a21a-4b53-9399-122114a99e19",
   "metadata": {},
   "outputs": [
    {
     "data": {
      "text/plain": [
       "{'a': 'amit', 'l': [7, 8, 9]}"
      ]
     },
     "execution_count": 7,
     "metadata": {},
     "output_type": "execute_result"
    }
   ],
   "source": [
    "def add (**kwargs):\n",
    "    return (kwargs)\n",
    "add (a=\"amit\",l=[7,8,9])"
   ]
  },
  {
   "cell_type": "code",
   "execution_count": 8,
   "id": "7f053f00-2b57-4fbd-b2b0-32b4050fc64f",
   "metadata": {},
   "outputs": [
    {
     "data": {
      "text/plain": [
       "dict"
      ]
     },
     "execution_count": 8,
     "metadata": {},
     "output_type": "execute_result"
    }
   ],
   "source": [
    "type(add())"
   ]
  },
  {
   "cell_type": "code",
   "execution_count": 12,
   "id": "6f93dc76-b3bb-4193-a6d8-cd1fcf6b02eb",
   "metadata": {},
   "outputs": [
    {
     "name": "stdout",
     "output_type": "stream",
     "text": [
      "[2, 4, 6, 8, 10]\n"
     ]
    }
   ],
   "source": [
    "\"\"\"Q3.  What is an iterator in python? Name the method used to initialise the iterator object and the method \n",
    "used for iteration. Use these methods to print the first five elements of the given list [2, 4, 6, 8, 10, 12, 14, \n",
    "16, 18, 20]\"\"\"\n",
    "#An iterator is an object that contains a countable number of values.\n",
    "\n",
    "#An iterator is an object that can be iterated upon, meaning that you can go  through all the values.\n",
    "\n",
    "#Technically, in Python, an iterator is an object which implements the iterator protocol, which consist of the methods __iter__() and __next__().\n",
    "#for iteration we can use for and while loops \n",
    "\n",
    "l=[2,4,6,8,10,12,14,16,18,20]\n",
    "l1=l[0:5]\n",
    "print(l1)\n",
    "\n",
    "\n",
    "\n"
   ]
  },
  {
   "cell_type": "code",
   "execution_count": 16,
   "id": "c5084444-49f0-4601-8968-28e6a04b721d",
   "metadata": {},
   "outputs": [
    {
     "name": "stdout",
     "output_type": "stream",
     "text": [
      "<class 'generator'>\n",
      "hello\n",
      "golu\n"
     ]
    }
   ],
   "source": [
    "\"\"\"Q4.  What is a generator function in python? Why yield keyword is used? Give an example of a generator \n",
    "function\"\"\"\n",
    "\n",
    "\"\"\"In Python, generator functions are those functions that, instead of returning a single value, \n",
    "return an iterable generator objectThe yield keyword in Python is similar to a return statement used for returning values in Python \n",
    "which returns a generator object to the one who calls the function which contains yield, instead \n",
    "of simply returning a value\"\"\"\n",
    "def gen():\n",
    "    yield(\"hello\")\n",
    "    yield(\"golu\")\n",
    "obj=gen()\n",
    "print(type(obj))\n",
    "print(next(obj))\n",
    "print(next(obj))\n",
    "\n"
   ]
  },
  {
   "cell_type": "code",
   "execution_count": 4,
   "id": "b833ae8f-2032-4ada-817f-ea02ca3861bf",
   "metadata": {},
   "outputs": [],
   "source": [
    "\n",
    "            \n",
    "            \n",
    "        \n",
    "\n",
    "\n",
    "\n",
    "\n",
    "\n",
    "\n"
   ]
  },
  {
   "cell_type": "code",
   "execution_count": 2,
   "id": "e09c0af9-3779-4fb2-9440-8b079f160a7c",
   "metadata": {},
   "outputs": [
    {
     "name": "stdout",
     "output_type": "stream",
     "text": [
      "0\n",
      "1\n",
      "1\n",
      "2\n",
      "3\n",
      "5\n",
      "8\n",
      "13\n",
      "21\n",
      "34\n"
     ]
    }
   ],
   "source": [
    "\"\"\"Q6. Write a python program to print the first 10 Fibonacci numbers using a while loop\"\"\"\n",
    "\n",
    "def test_fib(n):\n",
    "    a,b = 0,1\n",
    "    for i in range(n):\n",
    "        yield a \n",
    "        a,b = b , a+b\n",
    "        \n",
    "for i in test_fib(10):\n",
    "    print(i)\n",
    "\n",
    "\n",
    "\n",
    "\n",
    "\n"
   ]
  },
  {
   "cell_type": "code",
   "execution_count": 12,
   "id": "37f00170-6078-4e4f-b5e1-eb14ba06302e",
   "metadata": {},
   "outputs": [
    {
     "name": "stdout",
     "output_type": "stream",
     "text": [
      "['p', 'w', 's', 'k', 'i', 'l', 'l', 's']\n"
     ]
    }
   ],
   "source": [
    "'''7. Write a List Comprehension to iterate through the given string: ‘pwskills’.\n",
    "\n",
    "Expected output: ['p', 'w', 's', 'k', 'i', 'l', 'l', 's'] '''\n",
    "\n",
    "List = []\n",
    "for character in 'pwskills':\n",
    "    List.append(character)\n",
    "    print(List)\n",
    "\n",
    "\n"
   ]
  },
  {
   "cell_type": "code",
   "execution_count": 16,
   "id": "47af7e55-3c7f-4a1e-baea-04545537a3ca",
   "metadata": {},
   "outputs": [
    {
     "name": "stdin",
     "output_type": "stream",
     "text": [
      "Enter the number:  121\n"
     ]
    },
    {
     "name": "stdout",
     "output_type": "stream",
     "text": [
      "The reverse number is:  121\n",
      "The number is a palindrome\n"
     ]
    }
   ],
   "source": [
    "\n",
    "#Q8. Write a python program to check \n",
    "#whether a given number is Palindrome or not using a while loop\n",
    "\n",
    "\n",
    "number = int(input(\"Enter the number: \"))\n",
    "temp = number\n",
    "reverse =0\n",
    " \n",
    "while (number > 0):\n",
    "    dig = number % 10\n",
    "    reverse = reverse * 10 + dig\n",
    "    number = number // 10\n",
    " \n",
    "print(\"The reverse number is: \", reverse)\n",
    " \n",
    "if temp==reverse:\n",
    "    print(\"The number is a palindrome\")\n",
    "else:\n",
    "    print(\"The number is not a palindrome\")    "
   ]
  },
  {
   "cell_type": "code",
   "execution_count": 23,
   "id": "af34e4ac-2666-4a9f-9875-acf2d8e59064",
   "metadata": {},
   "outputs": [
    {
     "name": "stdout",
     "output_type": "stream",
     "text": [
      "[1, 3, 5, 7, 9, 11, 13, 15, 17, 19, 21, 23, 25, 27, 29, 31, 33, 35, 37, 39, 41, 43, 45, 47, 49, 51, 53, 55, 57, 59, 61, 63, 65, 67, 69, 71, 73, 75, 77, 79, 81, 83, 85, 87, 89, 91, 93, 95, 97, 99]\n"
     ]
    }
   ],
   "source": [
    "\"\"\"Q9. Write a code to print odd numbers from 1 to 100 using list comprehension.\"\"\"\n",
    "\n",
    "odd_num=[i for i in range(1,101)if i%2!=0]\n",
    "print(odd_num)"
   ]
  },
  {
   "cell_type": "code",
   "execution_count": null,
   "id": "cfe02b6f-5381-4e20-9689-738f0ee2367b",
   "metadata": {},
   "outputs": [],
   "source": []
  }
 ],
 "metadata": {
  "kernelspec": {
   "display_name": "Python 3 (ipykernel)",
   "language": "python",
   "name": "python3"
  },
  "language_info": {
   "codemirror_mode": {
    "name": "ipython",
    "version": 3
   },
   "file_extension": ".py",
   "mimetype": "text/x-python",
   "name": "python",
   "nbconvert_exporter": "python",
   "pygments_lexer": "ipython3",
   "version": "3.10.8"
  }
 },
 "nbformat": 4,
 "nbformat_minor": 5
}
